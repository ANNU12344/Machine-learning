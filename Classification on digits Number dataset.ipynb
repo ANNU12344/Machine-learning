{
 "cells": [
  {
   "cell_type": "markdown",
   "id": "58caaeec",
   "metadata": {},
   "source": [
    "# Logistic regression algorithm"
   ]
  },
  {
   "cell_type": "code",
   "execution_count": 1,
   "id": "077fe324",
   "metadata": {},
   "outputs": [],
   "source": [
    "from sklearn.datasets import load_digits\n",
    "%matplotlib inline\n",
    "import matplotlib.pyplot as plt\n",
    "import pandas as pd\n",
    "digits = load_digits()"
   ]
  },
  {
   "cell_type": "code",
   "execution_count": 2,
   "id": "f72ff22a",
   "metadata": {},
   "outputs": [
    {
     "name": "stdout",
     "output_type": "stream",
     "text": [
      "        0    1     2     3     4     5    6    7    8    9  ...   55   56  \\\n",
      "0     0.0  0.0   5.0  13.0   9.0   1.0  0.0  0.0  0.0  0.0  ...  0.0  0.0   \n",
      "1     0.0  0.0   0.0  12.0  13.0   5.0  0.0  0.0  0.0  0.0  ...  0.0  0.0   \n",
      "2     0.0  0.0   0.0   4.0  15.0  12.0  0.0  0.0  0.0  0.0  ...  0.0  0.0   \n",
      "3     0.0  0.0   7.0  15.0  13.0   1.0  0.0  0.0  0.0  8.0  ...  0.0  0.0   \n",
      "4     0.0  0.0   0.0   1.0  11.0   0.0  0.0  0.0  0.0  0.0  ...  0.0  0.0   \n",
      "...   ...  ...   ...   ...   ...   ...  ...  ...  ...  ...  ...  ...  ...   \n",
      "1792  0.0  0.0   4.0  10.0  13.0   6.0  0.0  0.0  0.0  1.0  ...  0.0  0.0   \n",
      "1793  0.0  0.0   6.0  16.0  13.0  11.0  1.0  0.0  0.0  0.0  ...  0.0  0.0   \n",
      "1794  0.0  0.0   1.0  11.0  15.0   1.0  0.0  0.0  0.0  0.0  ...  0.0  0.0   \n",
      "1795  0.0  0.0   2.0  10.0   7.0   0.0  0.0  0.0  0.0  0.0  ...  0.0  0.0   \n",
      "1796  0.0  0.0  10.0  14.0   8.0   1.0  0.0  0.0  0.0  2.0  ...  0.0  0.0   \n",
      "\n",
      "       57   58    59    60    61   62   63  label  \n",
      "0     0.0  6.0  13.0  10.0   0.0  0.0  0.0      0  \n",
      "1     0.0  0.0  11.0  16.0  10.0  0.0  0.0      1  \n",
      "2     0.0  0.0   3.0  11.0  16.0  9.0  0.0      2  \n",
      "3     0.0  7.0  13.0  13.0   9.0  0.0  0.0      3  \n",
      "4     0.0  0.0   2.0  16.0   4.0  0.0  0.0      4  \n",
      "...   ...  ...   ...   ...   ...  ...  ...    ...  \n",
      "1792  0.0  2.0  14.0  15.0   9.0  0.0  0.0      9  \n",
      "1793  0.0  6.0  16.0  14.0   6.0  0.0  0.0      0  \n",
      "1794  0.0  2.0   9.0  13.0   6.0  0.0  0.0      8  \n",
      "1795  0.0  5.0  12.0  16.0  12.0  0.0  0.0      9  \n",
      "1796  1.0  8.0  12.0  14.0  12.0  1.0  0.0      8  \n",
      "\n",
      "[1797 rows x 65 columns]\n"
     ]
    }
   ],
   "source": [
    "df = pd.DataFrame(digits['data'])\n",
    "df['label'] = digits['target']\n",
    "print(df)"
   ]
  },
  {
   "cell_type": "code",
   "execution_count": 3,
   "id": "be3558ff",
   "metadata": {},
   "outputs": [],
   "source": [
    "from sklearn.linear_model import LogisticRegression\n",
    "model = LogisticRegression()"
   ]
  },
  {
   "cell_type": "code",
   "execution_count": 4,
   "id": "bd365249",
   "metadata": {},
   "outputs": [],
   "source": [
    "from sklearn.model_selection import train_test_split"
   ]
  },
  {
   "cell_type": "code",
   "execution_count": 5,
   "id": "0bda9a99",
   "metadata": {},
   "outputs": [],
   "source": [
    "X_train, X_test, y_train, y_test = train_test_split(digits.data,digits.target, test_size=0.2)"
   ]
  },
  {
   "cell_type": "code",
   "execution_count": 6,
   "id": "f5ad457b",
   "metadata": {},
   "outputs": [
    {
     "name": "stderr",
     "output_type": "stream",
     "text": [
      "C:\\Users\\DeLL\\anaconda3\\lib\\site-packages\\sklearn\\linear_model\\_logistic.py:814: ConvergenceWarning: lbfgs failed to converge (status=1):\n",
      "STOP: TOTAL NO. of ITERATIONS REACHED LIMIT.\n",
      "\n",
      "Increase the number of iterations (max_iter) or scale the data as shown in:\n",
      "    https://scikit-learn.org/stable/modules/preprocessing.html\n",
      "Please also refer to the documentation for alternative solver options:\n",
      "    https://scikit-learn.org/stable/modules/linear_model.html#logistic-regression\n",
      "  n_iter_i = _check_optimize_result(\n"
     ]
    },
    {
     "data": {
      "text/plain": [
       "LogisticRegression()"
      ]
     },
     "execution_count": 6,
     "metadata": {},
     "output_type": "execute_result"
    }
   ],
   "source": [
    "model.fit(X_train, y_train)"
   ]
  },
  {
   "cell_type": "code",
   "execution_count": 7,
   "id": "e4ee4f5e",
   "metadata": {},
   "outputs": [
    {
     "data": {
      "text/plain": [
       "1.0"
      ]
     },
     "execution_count": 7,
     "metadata": {},
     "output_type": "execute_result"
    }
   ],
   "source": [
    "from sklearn.metrics import accuracy_score\n",
    "train_yhat = model.predict(X_train)\n",
    "train_acc = accuracy_score(y_train, train_yhat)\n",
    "train_acc"
   ]
  },
  {
   "cell_type": "code",
   "execution_count": 13,
   "id": "0bc2ddfc",
   "metadata": {},
   "outputs": [
    {
     "data": {
      "text/plain": [
       "0.9555555555555556"
      ]
     },
     "execution_count": 13,
     "metadata": {},
     "output_type": "execute_result"
    }
   ],
   "source": [
    "from sklearn.metrics import accuracy_score, f1_score, precision_score, recall_score, classification_report, confusion_matrix\n",
    "test_yhat = model.predict(X_test)\n",
    "test_acc = accuracy_score(y_test, test_yhat)\n",
    "test_acc"
   ]
  },
  {
   "cell_type": "code",
   "execution_count": 16,
   "id": "75597ac8",
   "metadata": {},
   "outputs": [
    {
     "name": "stdout",
     "output_type": "stream",
     "text": [
      "[[37  0  0  0  0  0  0  0  0  0]\n",
      " [ 0 39  0  0  0  0  0  0  0  0]\n",
      " [ 0  0 40  0  0  0  0  0  0  0]\n",
      " [ 0  0  0 34  0  0  0  1  3  0]\n",
      " [ 0  1  0  0 38  0  0  0  0  4]\n",
      " [ 0  0  0  1  0 36  0  0  0  0]\n",
      " [ 0  0  0  0  0  0 29  0  0  0]\n",
      " [ 0  0  0  0  0  0  0 31  0  1]\n",
      " [ 0  2  0  0  0  0  0  0 30  0]\n",
      " [ 0  0  0  1  0  1  0  0  1 30]]\n",
      "              precision    recall  f1-score   support\n",
      "\n",
      "           0       1.00      1.00      1.00        37\n",
      "           1       0.93      1.00      0.96        39\n",
      "           2       1.00      1.00      1.00        40\n",
      "           3       0.94      0.89      0.92        38\n",
      "           4       1.00      0.88      0.94        43\n",
      "           5       0.97      0.97      0.97        37\n",
      "           6       1.00      1.00      1.00        29\n",
      "           7       0.97      0.97      0.97        32\n",
      "           8       0.88      0.94      0.91        32\n",
      "           9       0.86      0.91      0.88        33\n",
      "\n",
      "    accuracy                           0.96       360\n",
      "   macro avg       0.96      0.96      0.96       360\n",
      "weighted avg       0.96      0.96      0.96       360\n",
      "\n"
     ]
    }
   ],
   "source": [
    "from sklearn import metrics\n",
    "from sklearn.metrics import accuracy_score, f1_score, precision_score, recall_score, classification_report, confusion_matrix\n",
    "test_yhat = model.predict(X_test)\n",
    "print(metrics.confusion_matrix(y_test,test_yhat))\n",
    "print(metrics.classification_report(y_test,test_yhat))"
   ]
  },
  {
   "cell_type": "markdown",
   "id": "65cf1750",
   "metadata": {},
   "source": [
    "# Random forest algorithm"
   ]
  },
  {
   "cell_type": "code",
   "execution_count": 17,
   "id": "0987ab37",
   "metadata": {},
   "outputs": [
    {
     "data": {
      "text/plain": [
       "0.9930410577592206"
      ]
     },
     "execution_count": 17,
     "metadata": {},
     "output_type": "execute_result"
    }
   ],
   "source": [
    "from sklearn.ensemble import RandomForestClassifier\n",
    "from sklearn.metrics import accuracy_score\n",
    "model1 = RandomForestClassifier(n_estimators=5,max_depth=None,criterion='gini',bootstrap=True,max_samples=None,min_samples_split=2,min_samples_leaf=1,max_leaf_nodes=None)\n",
    "model1.fit(X_train, y_train)\n",
    "train_ran = model1.predict(X_train)\n",
    "train_ran_acc = accuracy_score(y_train, train_ran)\n",
    "train_ran_acc"
   ]
  },
  {
   "cell_type": "code",
   "execution_count": 18,
   "id": "547f2129",
   "metadata": {},
   "outputs": [
    {
     "data": {
      "text/plain": [
       "0.9305555555555556"
      ]
     },
     "execution_count": 18,
     "metadata": {},
     "output_type": "execute_result"
    }
   ],
   "source": [
    "test_ran = model1.predict(X_test)\n",
    "test_ran_acc = accuracy_score(y_test, test_ran)\n",
    "test_ran_acc"
   ]
  },
  {
   "cell_type": "code",
   "execution_count": 20,
   "id": "5b574197",
   "metadata": {},
   "outputs": [
    {
     "name": "stdout",
     "output_type": "stream",
     "text": [
      "[[37  0  0  0  0  0  0  0  0  0]\n",
      " [ 0 39  0  0  0  0  0  0  0  0]\n",
      " [ 0  0 40  0  0  0  0  0  0  0]\n",
      " [ 0  0  0 34  0  0  0  1  3  0]\n",
      " [ 0  1  0  0 38  0  0  0  0  4]\n",
      " [ 0  0  0  1  0 36  0  0  0  0]\n",
      " [ 0  0  0  0  0  0 29  0  0  0]\n",
      " [ 0  0  0  0  0  0  0 31  0  1]\n",
      " [ 0  2  0  0  0  0  0  0 30  0]\n",
      " [ 0  0  0  1  0  1  0  0  1 30]]\n",
      "              precision    recall  f1-score   support\n",
      "\n",
      "           0       1.00      1.00      1.00        37\n",
      "           1       0.93      1.00      0.96        39\n",
      "           2       1.00      1.00      1.00        40\n",
      "           3       0.94      0.89      0.92        38\n",
      "           4       1.00      0.88      0.94        43\n",
      "           5       0.97      0.97      0.97        37\n",
      "           6       1.00      1.00      1.00        29\n",
      "           7       0.97      0.97      0.97        32\n",
      "           8       0.88      0.94      0.91        32\n",
      "           9       0.86      0.91      0.88        33\n",
      "\n",
      "    accuracy                           0.96       360\n",
      "   macro avg       0.96      0.96      0.96       360\n",
      "weighted avg       0.96      0.96      0.96       360\n",
      "\n"
     ]
    }
   ],
   "source": [
    "from sklearn import metrics\n",
    "from sklearn.metrics import accuracy_score, f1_score, precision_score, recall_score, classification_report, confusion_matrix\n",
    "test_ran = model.predict(X_test)\n",
    "print(metrics.confusion_matrix(y_test,test_ran))\n",
    "print(metrics.classification_report(y_test,test_ran))"
   ]
  },
  {
   "cell_type": "markdown",
   "id": "22d5eec8",
   "metadata": {},
   "source": [
    "# decision tree algorthim\n"
   ]
  },
  {
   "cell_type": "code",
   "execution_count": 11,
   "id": "c8712b7b",
   "metadata": {},
   "outputs": [
    {
     "data": {
      "text/plain": [
       "0.9839944328462074"
      ]
     },
     "execution_count": 11,
     "metadata": {},
     "output_type": "execute_result"
    }
   ],
   "source": [
    "from sklearn.tree import DecisionTreeClassifier\n",
    "model2 = DecisionTreeClassifier(max_depth=10)\n",
    "model2.fit(X_train, y_train)\n",
    "y_predict=model2.predict(X_train)\n",
    "score=accuracy_score(y_train,y_predict)\n",
    "score"
   ]
  },
  {
   "cell_type": "code",
   "execution_count": 12,
   "id": "e64b1a14",
   "metadata": {},
   "outputs": [
    {
     "data": {
      "text/plain": [
       "0.875"
      ]
     },
     "execution_count": 12,
     "metadata": {},
     "output_type": "execute_result"
    }
   ],
   "source": [
    "test_dec = model2.predict(X_test)\n",
    "test_dec_acc = accuracy_score(y_test, test_yhat)\n",
    "test_dec_acc"
   ]
  },
  {
   "cell_type": "code",
   "execution_count": 23,
   "id": "cbb74aa1",
   "metadata": {},
   "outputs": [
    {
     "name": "stdout",
     "output_type": "stream",
     "text": [
      "[[37  0  0  0  0  0  0  0  0  0]\n",
      " [ 0 39  0  0  0  0  0  0  0  0]\n",
      " [ 0  0 40  0  0  0  0  0  0  0]\n",
      " [ 0  0  0 34  0  0  0  1  3  0]\n",
      " [ 0  1  0  0 38  0  0  0  0  4]\n",
      " [ 0  0  0  1  0 36  0  0  0  0]\n",
      " [ 0  0  0  0  0  0 29  0  0  0]\n",
      " [ 0  0  0  0  0  0  0 31  0  1]\n",
      " [ 0  2  0  0  0  0  0  0 30  0]\n",
      " [ 0  0  0  1  0  1  0  0  1 30]]\n",
      "              precision    recall  f1-score   support\n",
      "\n",
      "           0       1.00      1.00      1.00        37\n",
      "           1       0.93      1.00      0.96        39\n",
      "           2       1.00      1.00      1.00        40\n",
      "           3       0.94      0.89      0.92        38\n",
      "           4       1.00      0.88      0.94        43\n",
      "           5       0.97      0.97      0.97        37\n",
      "           6       1.00      1.00      1.00        29\n",
      "           7       0.97      0.97      0.97        32\n",
      "           8       0.88      0.94      0.91        32\n",
      "           9       0.86      0.91      0.88        33\n",
      "\n",
      "    accuracy                           0.96       360\n",
      "   macro avg       0.96      0.96      0.96       360\n",
      "weighted avg       0.96      0.96      0.96       360\n",
      "\n"
     ]
    }
   ],
   "source": [
    "from sklearn import metrics\n",
    "from sklearn.metrics import accuracy_score, f1_score, precision_score, recall_score, classification_report, confusion_matrix\n",
    "\n",
    "print(metrics.confusion_matrix(y_test,test_dec))\n",
    "print(metrics.classification_report(y_test,test_dec))"
   ]
  },
  {
   "cell_type": "markdown",
   "id": "b3b61160",
   "metadata": {},
   "source": [
    "# Support vector algorithm"
   ]
  },
  {
   "cell_type": "code",
   "execution_count": 25,
   "id": "8f4c89ad",
   "metadata": {},
   "outputs": [
    {
     "data": {
      "text/plain": [
       "0.9965205288796103"
      ]
     },
     "execution_count": 25,
     "metadata": {},
     "output_type": "execute_result"
    }
   ],
   "source": [
    "from sklearn.svm import SVC\n",
    "from sklearn.metrics import accuracy_score\n",
    "classification_rbf = SVC(kernel='rbf')\n",
    "classification_rbf.fit(X_train, y_train)\n",
    "y_support_predict=classification_rbf.predict(X_train)\n",
    "train_support_acc=accuracy_score(y_train,y_support_predict)\n",
    "train_support_acc"
   ]
  },
  {
   "cell_type": "code",
   "execution_count": 26,
   "id": "da4c67f1",
   "metadata": {},
   "outputs": [
    {
     "data": {
      "text/plain": [
       "0.9805555555555555"
      ]
     },
     "execution_count": 26,
     "metadata": {},
     "output_type": "execute_result"
    }
   ],
   "source": [
    "test_support =classification_rbf.predict(X_test)\n",
    "test_support_acc = accuracy_score(y_test, test_support)\n",
    "test_support_acc"
   ]
  },
  {
   "cell_type": "code",
   "execution_count": 27,
   "id": "7c52d7e6",
   "metadata": {},
   "outputs": [
    {
     "name": "stdout",
     "output_type": "stream",
     "text": [
      "[[37  0  0  0  0  0  0  0  0  0]\n",
      " [ 0 39  0  0  0  0  0  0  0  0]\n",
      " [ 0  0 40  0  0  0  0  0  0  0]\n",
      " [ 0  0  0 36  0  0  0  1  1  0]\n",
      " [ 0  0  0  0 40  0  0  0  1  2]\n",
      " [ 0  0  0  0  0 37  0  0  0  0]\n",
      " [ 0  0  0  0  0  0 29  0  0  0]\n",
      " [ 0  0  0  0  0  0  0 32  0  0]\n",
      " [ 0  2  0  0  0  0  0  0 30  0]\n",
      " [ 0  0  0  0  0  0  0  0  0 33]]\n",
      "              precision    recall  f1-score   support\n",
      "\n",
      "           0       1.00      1.00      1.00        37\n",
      "           1       0.95      1.00      0.97        39\n",
      "           2       1.00      1.00      1.00        40\n",
      "           3       1.00      0.95      0.97        38\n",
      "           4       1.00      0.93      0.96        43\n",
      "           5       1.00      1.00      1.00        37\n",
      "           6       1.00      1.00      1.00        29\n",
      "           7       0.97      1.00      0.98        32\n",
      "           8       0.94      0.94      0.94        32\n",
      "           9       0.94      1.00      0.97        33\n",
      "\n",
      "    accuracy                           0.98       360\n",
      "   macro avg       0.98      0.98      0.98       360\n",
      "weighted avg       0.98      0.98      0.98       360\n",
      "\n"
     ]
    }
   ],
   "source": [
    "from sklearn import metrics\n",
    "from sklearn.metrics import accuracy_score, f1_score, precision_score, recall_score, classification_report, confusion_matrix\n",
    "print(metrics.confusion_matrix(y_test,test_support))\n",
    "print(metrics.classification_report(y_test,test_support))"
   ]
  },
  {
   "cell_type": "markdown",
   "id": "85f3740a",
   "metadata": {},
   "source": [
    "# KNN (K nearest neighbour) algorithm\n"
   ]
  },
  {
   "cell_type": "code",
   "execution_count": 29,
   "id": "f4740a4d",
   "metadata": {},
   "outputs": [
    {
     "data": {
      "text/plain": [
       "0.9853862212943633"
      ]
     },
     "execution_count": 29,
     "metadata": {},
     "output_type": "execute_result"
    }
   ],
   "source": [
    "from sklearn.neighbors import KNeighborsClassifier\n",
    "knn = KNeighborsClassifier(n_neighbors=10)\n",
    "knn.fit(X_train, y_train)\n",
    "y_knn_train=knn.predict(X_train)\n",
    "train_knn_score=accuracy_score(y_train,y_knn_train)\n",
    "train_knn_score"
   ]
  },
  {
   "cell_type": "code",
   "execution_count": 30,
   "id": "819c4fa4",
   "metadata": {},
   "outputs": [
    {
     "data": {
      "text/plain": [
       "0.9722222222222222"
      ]
     },
     "execution_count": 30,
     "metadata": {},
     "output_type": "execute_result"
    }
   ],
   "source": [
    "y_knn_test=knn.predict(X_test)\n",
    "test_knn_score=accuracy_score(y_test,y_knn_test)\n",
    "test_knn_score"
   ]
  },
  {
   "cell_type": "code",
   "execution_count": 31,
   "id": "3c202864",
   "metadata": {},
   "outputs": [
    {
     "name": "stdout",
     "output_type": "stream",
     "text": [
      "[[37  0  0  0  0  0  0  0  0  0]\n",
      " [ 0 39  0  0  0  0  0  0  0  0]\n",
      " [ 0  0 40  0  0  0  0  0  0  0]\n",
      " [ 0  0  0 35  0  0  0  2  1  0]\n",
      " [ 0  1  0  0 39  0  0  1  1  1]\n",
      " [ 0  0  0  0  0 37  0  0  0  0]\n",
      " [ 0  0  0  0  0  0 29  0  0  0]\n",
      " [ 0  0  0  0  0  0  0 32  0  0]\n",
      " [ 0  2  1  0  0  0  0  0 29  0]\n",
      " [ 0  0  0  0  0  0  0  0  0 33]]\n",
      "              precision    recall  f1-score   support\n",
      "\n",
      "           0       1.00      1.00      1.00        37\n",
      "           1       0.93      1.00      0.96        39\n",
      "           2       0.98      1.00      0.99        40\n",
      "           3       1.00      0.92      0.96        38\n",
      "           4       1.00      0.91      0.95        43\n",
      "           5       1.00      1.00      1.00        37\n",
      "           6       1.00      1.00      1.00        29\n",
      "           7       0.91      1.00      0.96        32\n",
      "           8       0.94      0.91      0.92        32\n",
      "           9       0.97      1.00      0.99        33\n",
      "\n",
      "    accuracy                           0.97       360\n",
      "   macro avg       0.97      0.97      0.97       360\n",
      "weighted avg       0.97      0.97      0.97       360\n",
      "\n"
     ]
    }
   ],
   "source": [
    "from sklearn import metrics\n",
    "from sklearn.metrics import accuracy_score, f1_score, precision_score, recall_score, classification_report, confusion_matrix\n",
    "print(metrics.confusion_matrix(y_test,y_knn_test))\n",
    "print(metrics.classification_report(y_test,y_knn_test))"
   ]
  },
  {
   "cell_type": "code",
   "execution_count": null,
   "id": "c36ca61b",
   "metadata": {},
   "outputs": [],
   "source": []
  }
 ],
 "metadata": {
  "kernelspec": {
   "display_name": "Python 3 (ipykernel)",
   "language": "python",
   "name": "python3"
  },
  "language_info": {
   "codemirror_mode": {
    "name": "ipython",
    "version": 3
   },
   "file_extension": ".py",
   "mimetype": "text/x-python",
   "name": "python",
   "nbconvert_exporter": "python",
   "pygments_lexer": "ipython3",
   "version": "3.9.12"
  }
 },
 "nbformat": 4,
 "nbformat_minor": 5
}
